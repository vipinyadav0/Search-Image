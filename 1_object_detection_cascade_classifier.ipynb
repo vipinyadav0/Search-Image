{
 "cells": [
  {
   "cell_type": "code",
   "execution_count": 2,
   "id": "d64780bc",
   "metadata": {},
   "outputs": [],
   "source": [
    "import numpy as np\n",
    "import cv2"
   ]
  },
  {
   "cell_type": "markdown",
   "id": "ad2d014e",
   "metadata": {},
   "source": [
    "# Face Detection"
   ]
  },
  {
   "cell_type": "code",
   "execution_count": 3,
   "id": "ca55d634",
   "metadata": {},
   "outputs": [],
   "source": [
    "img = cv2.imread('./img/ronaldo.png')\n",
    "# img = cv2.imread('./img/group.jpeg')\n",
    "\n",
    "\n",
    "cv2.imshow('image', img)\n",
    "cv2.waitKey(0)\n",
    "cv2.destroyAllWindows()"
   ]
  },
  {
   "cell_type": "code",
   "execution_count": 4,
   "id": "a40c1e86",
   "metadata": {},
   "outputs": [],
   "source": [
    "face_cascade = cv2.CascadeClassifier('./cascade_classifier/haarcascade_frontalface_default.xml')"
   ]
  },
  {
   "cell_type": "code",
   "execution_count": 5,
   "id": "6c81148c",
   "metadata": {},
   "outputs": [],
   "source": [
    "faces, num_detection = face_cascade.detectMultiScale2(img)"
   ]
  },
  {
   "cell_type": "code",
   "execution_count": 6,
   "id": "ad65bb26",
   "metadata": {},
   "outputs": [
    {
     "name": "stdout",
     "output_type": "stream",
     "text": [
      "[[659  78 296 296]]\n"
     ]
    }
   ],
   "source": [
    "print(faces)"
   ]
  },
  {
   "cell_type": "code",
   "execution_count": 7,
   "id": "7998c655",
   "metadata": {},
   "outputs": [
    {
     "name": "stdout",
     "output_type": "stream",
     "text": [
      "[67]\n"
     ]
    }
   ],
   "source": [
    "print(num_detection)"
   ]
  },
  {
   "cell_type": "code",
   "execution_count": 8,
   "id": "63c28bbc",
   "metadata": {},
   "outputs": [],
   "source": [
    "pt1 = (659,78)\n",
    "\n",
    "pt2 = (659+296, 78+296)\n",
    "\n",
    "## Draw the rectangle\n",
    "\n",
    "cv2.rectangle(img, pt1, pt2, (0, 255, 0))\n",
    "\n",
    "cv2.imshow('fface detection', img)\n",
    "cv2.waitKey(0)\n",
    "cv2.destroyAllWindows()"
   ]
  },
  {
   "cell_type": "code",
   "execution_count": null,
   "id": "fb1b7fe4",
   "metadata": {},
   "outputs": [],
   "source": []
  },
  {
   "cell_type": "markdown",
   "id": "bc623a74",
   "metadata": {},
   "source": [
    "# Multiple face detection "
   ]
  },
  {
   "cell_type": "code",
   "execution_count": 21,
   "id": "440e47c0",
   "metadata": {},
   "outputs": [],
   "source": [
    "img2 = cv2.imread('./img/collegues.jpeg')\n",
    "\n",
    "cv2.imshow('Faces', img2)\n",
    "cv2.waitKey(0)\n",
    "cv2.destroyAllWindows()"
   ]
  },
  {
   "cell_type": "code",
   "execution_count": 22,
   "id": "f189206f",
   "metadata": {},
   "outputs": [],
   "source": [
    "face_cascade = cv2.CascadeClassifier('./cascade_classifier/haarcascade_frontalface_default.xml')\n",
    "\n",
    "#Apply Cascade Classifier to an Image\n",
    "faces_all , num_detection2 = face_cascade.detectMultiScale2(img2, minNeighbors=10)\n",
    "\n",
    "#Step 2 : Running a loop\n",
    "for x,y,w,h in faces_all:\n",
    "    cv2.rectangle(img,(x,y),(x+w,y+h), (0,255,0))\n",
    "\n",
    "#Step 3 : Display the Image\n",
    "cv2.imshow(\"face detection\", img2)\n",
    "cv2.waitKey(0)\n",
    "cv2.destroyAllWindows()"
   ]
  },
  {
   "cell_type": "code",
   "execution_count": 23,
   "id": "cfe258c7",
   "metadata": {},
   "outputs": [
    {
     "name": "stdout",
     "output_type": "stream",
     "text": [
      "[[377 182 140 140]\n",
      " [537 186 188 188]\n",
      " [781 239 143 143]]\n"
     ]
    }
   ],
   "source": [
    "print(faces_all)"
   ]
  },
  {
   "cell_type": "code",
   "execution_count": 24,
   "id": "ed487264",
   "metadata": {},
   "outputs": [
    {
     "name": "stdout",
     "output_type": "stream",
     "text": [
      "[21 11 37]\n"
     ]
    }
   ],
   "source": [
    "print(num_detection2)"
   ]
  },
  {
   "cell_type": "code",
   "execution_count": null,
   "id": "87b08f95",
   "metadata": {},
   "outputs": [],
   "source": []
  },
  {
   "cell_type": "code",
   "execution_count": null,
   "id": "ae3e1e02",
   "metadata": {},
   "outputs": [],
   "source": []
  }
 ],
 "metadata": {
  "kernelspec": {
   "display_name": "Python 3 (ipykernel)",
   "language": "python",
   "name": "python3"
  },
  "language_info": {
   "codemirror_mode": {
    "name": "ipython",
    "version": 3
   },
   "file_extension": ".py",
   "mimetype": "text/x-python",
   "name": "python",
   "nbconvert_exporter": "python",
   "pygments_lexer": "ipython3",
   "version": "3.9.7"
  }
 },
 "nbformat": 4,
 "nbformat_minor": 5
}

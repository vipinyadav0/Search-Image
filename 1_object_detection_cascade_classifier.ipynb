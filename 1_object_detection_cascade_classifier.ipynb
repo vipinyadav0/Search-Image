{
 "cells": [
  {
   "cell_type": "code",
   "execution_count": 16,
   "id": "d64780bc",
   "metadata": {},
   "outputs": [],
   "source": [
    "import numpy as np\n",
    "import cv2"
   ]
  },
  {
   "cell_type": "markdown",
   "id": "ad2d014e",
   "metadata": {},
   "source": [
    "# Face Detection"
   ]
  },
  {
   "cell_type": "code",
   "execution_count": 28,
   "id": "ca55d634",
   "metadata": {},
   "outputs": [],
   "source": [
    "img = cv2.imread('./img/ronaldo.png')\n",
    "# img = cv2.imread('./img/group.jpeg')\n",
    "\n",
    "\n",
    "cv2.imshow('image', img)\n",
    "cv2.waitKey(0)\n",
    "cv2.destroyAllWindows()"
   ]
  },
  {
   "cell_type": "code",
   "execution_count": 29,
   "id": "a40c1e86",
   "metadata": {},
   "outputs": [],
   "source": [
    "face_cascade = cv2.CascadeClassifier('./cascade_classifier/haarcascade_frontalface_default.xml')"
   ]
  },
  {
   "cell_type": "code",
   "execution_count": 30,
   "id": "6c81148c",
   "metadata": {},
   "outputs": [],
   "source": [
    "faces, num_detection = face_cascade.detectMultiScale2(img)"
   ]
  },
  {
   "cell_type": "code",
   "execution_count": 32,
   "id": "ad65bb26",
   "metadata": {},
   "outputs": [
    {
     "name": "stdout",
     "output_type": "stream",
     "text": [
      "[[659  78 296 296]]\n"
     ]
    }
   ],
   "source": [
    "print(faces)"
   ]
  },
  {
   "cell_type": "code",
   "execution_count": 33,
   "id": "7998c655",
   "metadata": {},
   "outputs": [
    {
     "name": "stdout",
     "output_type": "stream",
     "text": [
      "[67]\n"
     ]
    }
   ],
   "source": [
    "print(num_detection)"
   ]
  },
  {
   "cell_type": "code",
   "execution_count": 34,
   "id": "ca86ae38",
   "metadata": {},
   "outputs": [],
   "source": [
    "pt1 = (659,78)\n",
    "\n",
    "pt2 = (659+296, 78+296)\n",
    "\n",
    "## Draw the rectangle\n",
    "\n",
    "cv2.rectangle(img, pt1, pt2, (0, 255, 0))\n",
    "\n",
    "cv2.imshow('fface detection', img)\n",
    "cv2.waitKey(0)\n",
    "cv2.destroyAllWindows()"
   ]
  },
  {
   "cell_type": "code",
   "execution_count": null,
   "id": "d4b8647c",
   "metadata": {},
   "outputs": [],
   "source": [
    "# Draw the circle\n",
    "cv2.circle()"
   ]
  }
 ],
 "metadata": {
  "kernelspec": {
   "display_name": "Python 3 (ipykernel)",
   "language": "python",
   "name": "python3"
  },
  "language_info": {
   "codemirror_mode": {
    "name": "ipython",
    "version": 3
   },
   "file_extension": ".py",
   "mimetype": "text/x-python",
   "name": "python",
   "nbconvert_exporter": "python",
   "pygments_lexer": "ipython3",
   "version": "3.9.7"
  }
 },
 "nbformat": 4,
 "nbformat_minor": 5
}

{
 "cells": [
  {
   "cell_type": "markdown",
   "id": "351740ac",
   "metadata": {},
   "source": [
    "# Face Detection using DNN"
   ]
  },
  {
   "cell_type": "code",
   "execution_count": 7,
   "id": "e8252275",
   "metadata": {},
   "outputs": [],
   "source": [
    "import numpy as np\n",
    "import cv2"
   ]
  },
  {
   "cell_type": "code",
   "execution_count": 8,
   "id": "450d3da5",
   "metadata": {},
   "outputs": [],
   "source": [
    "# load The image\n",
    "img = cv2.imread(\"./img/three.jpeg\")\n",
    "\n",
    "\n",
    "cv2.imshow(\"faces\", img)\n",
    "cv2.waitKey(0)\n",
    "cv2.destroyAllWindows()"
   ]
  },
  {
   "cell_type": "code",
   "execution_count": 9,
   "id": "380c1030",
   "metadata": {},
   "outputs": [],
   "source": [
    "# Load the Model\n",
    "net = cv2.dnn.readNetFromCaffe('./models/deploy.prototxt.txt',\n",
    "                               './models/res10_300x300_ssd_iter_140000.caffemodel')"
   ]
  },
  {
   "cell_type": "code",
   "execution_count": 10,
   "id": "3dc9b0ab",
   "metadata": {},
   "outputs": [],
   "source": [
    "# Extract Blob\n",
    "blob = cv2.dnn.blobFromImage(img,1,(300,300), (104,177,123), swapRB=False)"
   ]
  },
  {
   "cell_type": "code",
   "execution_count": 11,
   "id": "507debbc",
   "metadata": {},
   "outputs": [],
   "source": [
    "# Set the blob as input\n",
    "net.setInput(blob)\n",
    "\n",
    "# Run the Model\n",
    "detection = net.forward()"
   ]
  },
  {
   "cell_type": "code",
   "execution_count": 13,
   "id": "7d96d66c",
   "metadata": {},
   "outputs": [
    {
     "data": {
      "text/plain": [
       "(1, 1, 200, 7)"
      ]
     },
     "execution_count": 13,
     "metadata": {},
     "output_type": "execute_result"
    }
   ],
   "source": [
    "detection.shape\n"
   ]
  },
  {
   "cell_type": "code",
   "execution_count": null,
   "id": "a64319d9",
   "metadata": {},
   "outputs": [],
   "source": []
  }
 ],
 "metadata": {
  "kernelspec": {
   "display_name": "Python 3 (ipykernel)",
   "language": "python",
   "name": "python3"
  },
  "language_info": {
   "codemirror_mode": {
    "name": "ipython",
    "version": 3
   },
   "file_extension": ".py",
   "mimetype": "text/x-python",
   "name": "python",
   "nbconvert_exporter": "python",
   "pygments_lexer": "ipython3",
   "version": "3.9.7"
  }
 },
 "nbformat": 4,
 "nbformat_minor": 5
}
